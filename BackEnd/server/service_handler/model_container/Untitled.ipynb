{
 "cells": [
  {
   "cell_type": "code",
   "execution_count": 5,
   "metadata": {},
   "outputs": [
    {
     "name": "stdout",
     "output_type": "stream",
     "text": [
      "cirrhosis\n"
     ]
    }
   ],
   "source": [
    "import pandas as pd\n",
    "import mysql.connector\n",
    "import numpy as np\n",
    "from sklearn import tree\n",
    "\n",
    "con  = mysql.connector.connect(\n",
    "    host=\"localhost\",\n",
    "    user=\"root\",\n",
    "    passwd=\"000012300\"\n",
    "    )\n",
    "cur = con.cursor()\n",
    "\n",
    "def import_data():\n",
    "    cur.execute(\"USE mini_data\")\n",
    "    cur.execute(\"SELECT code from symptoms ORDER BY code\")\n",
    "    diseaseCodes = []\n",
    "    symptomCode = []\n",
    "    relations=[]\n",
    "\n",
    "    for i in cur:\n",
    "        symptomCode.append(i[0])\n",
    "\n",
    "    cur.execute(\"SELECT code from diseases ORDER BY code\")\n",
    "    for i in cur:\n",
    "        diseaseCodes.append(i[0])\n",
    "\n",
    "    relations =  np.zeros((len(diseaseCodes), len(symptomCode)))\n",
    "\n",
    "    for i in diseaseCodes:\n",
    "        cur.execute(\"SELECT symptom_code from disease_symptom WHERE disease_code= '\"+i+\" '\")\n",
    "        for k in cur:\n",
    "            relations[diseaseCodes.index(i)][symptomCode.index(k[0])]=1\n",
    "    return diseaseCodes,symptomCode,relations\n",
    "\n",
    "def getDiseaseName(code):\n",
    "    cur.execute(\"use mini_data\")\n",
    "    q = \"SELECT name from diseases where code = '{}' \".format(code)\n",
    "    cur.execute(q)\n",
    "    for i in cur:\n",
    "        print(i[0])\n",
    "        \n",
    "\n",
    "\n",
    "getDiseaseName(\"C1623038\")\n"
   ]
  },
  {
   "cell_type": "code",
   "execution_count": 2,
   "metadata": {},
   "outputs": [],
   "source": []
  }
 ],
 "metadata": {
  "kernelspec": {
   "display_name": "Python 3.7.6 64-bit ('mini': conda)",
   "language": "python",
   "name": "python37664bitminicondaf392cca75edd4bc0ba320c94678dd41e"
  },
  "language_info": {
   "codemirror_mode": {
    "name": "ipython",
    "version": 3
   },
   "file_extension": ".py",
   "mimetype": "text/x-python",
   "name": "python",
   "nbconvert_exporter": "python",
   "pygments_lexer": "ipython3",
   "version": "3.7.6"
  }
 },
 "nbformat": 4,
 "nbformat_minor": 4
}
